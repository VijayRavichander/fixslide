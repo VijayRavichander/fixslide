{
 "cells": [
  {
   "cell_type": "code",
   "execution_count": 2,
   "metadata": {},
   "outputs": [
    {
     "name": "stdout",
     "output_type": "stream",
     "text": [
      "Downloading https://swabhs.com/f24-csci544-appliednlp/assets/slides/24f-csci544-appliednlp-lec01-introduction.pdf\n",
      "zsh:1: command not found: wget\n"
     ]
    },
    {
     "ename": "FileNotFoundError",
     "evalue": "no such file: '/content/24f-csci544-appliednlp-lec01-introduction.pdf'",
     "output_type": "error",
     "traceback": [
      "\u001b[0;31m---------------------------------------------------------------------------\u001b[0m",
      "\u001b[0;31mFileNotFoundError\u001b[0m                         Traceback (most recent call last)",
      "\u001b[0;32m/var/folders/t3/lc0v8f192sx5q9fm9cc70v040000gn/T/ipykernel_22696/1225711165.py\u001b[0m in \u001b[0;36m?\u001b[0;34m()\u001b[0m\n\u001b[1;32m     23\u001b[0m \u001b[0mpdf_path\u001b[0m \u001b[0;34m=\u001b[0m \u001b[0;34mf\"\u001b[0m\u001b[0;34m/content/\u001b[0m\u001b[0;34m{\u001b[0m\u001b[0mpdf_name\u001b[0m\u001b[0;34m}\u001b[0m\u001b[0;34m\"\u001b[0m\u001b[0;34m\u001b[0m\u001b[0;34m\u001b[0m\u001b[0m\n\u001b[1;32m     24\u001b[0m \u001b[0mnew_pdf_path\u001b[0m \u001b[0;34m=\u001b[0m \u001b[0;34mf\"\u001b[0m\u001b[0;34m/content/flattened \u001b[0m\u001b[0;34m{\u001b[0m\u001b[0mpdf_name\u001b[0m\u001b[0;34m}\u001b[0m\u001b[0;34m\"\u001b[0m\u001b[0;34m\u001b[0m\u001b[0;34m\u001b[0m\u001b[0m\n\u001b[1;32m     25\u001b[0m \u001b[0;34m\u001b[0m\u001b[0m\n\u001b[1;32m     26\u001b[0m \u001b[0;31m# Open the PDF document\u001b[0m\u001b[0;34m\u001b[0m\u001b[0;34m\u001b[0m\u001b[0m\n\u001b[0;32m---> 27\u001b[0;31m \u001b[0mdoc\u001b[0m \u001b[0;34m=\u001b[0m \u001b[0mfitz\u001b[0m\u001b[0;34m.\u001b[0m\u001b[0mopen\u001b[0m\u001b[0;34m(\u001b[0m\u001b[0mpdf_path\u001b[0m\u001b[0;34m)\u001b[0m\u001b[0;34m\u001b[0m\u001b[0;34m\u001b[0m\u001b[0m\n\u001b[0m\u001b[1;32m     28\u001b[0m \u001b[0;34m\u001b[0m\u001b[0m\n\u001b[1;32m     29\u001b[0m \u001b[0;31m# Dictionary to store pages with valid numbers\u001b[0m\u001b[0;34m\u001b[0m\u001b[0;34m\u001b[0m\u001b[0m\n\u001b[1;32m     30\u001b[0m \u001b[0mvalid_pages\u001b[0m \u001b[0;34m=\u001b[0m \u001b[0;34m{\u001b[0m\u001b[0;34m}\u001b[0m\u001b[0;34m\u001b[0m\u001b[0;34m\u001b[0m\u001b[0m\n",
      "\u001b[0;32m~/miniconda3/envs/csci566/lib/python3.12/site-packages/pymupdf/__init__.py\u001b[0m in \u001b[0;36m?\u001b[0;34m(self, filename, stream, filetype, rect, width, height, fontsize)\u001b[0m\n\u001b[1;32m   2898\u001b[0m                     \u001b[0mself\u001b[0m\u001b[0;34m.\u001b[0m\u001b[0mpage_count2\u001b[0m \u001b[0;34m=\u001b[0m \u001b[0mextra\u001b[0m\u001b[0;34m.\u001b[0m\u001b[0mpage_count_pdf\u001b[0m\u001b[0;34m\u001b[0m\u001b[0;34m\u001b[0m\u001b[0m\n\u001b[1;32m   2899\u001b[0m                 \u001b[0;32melse\u001b[0m\u001b[0;34m:\u001b[0m\u001b[0;34m\u001b[0m\u001b[0;34m\u001b[0m\u001b[0m\n\u001b[1;32m   2900\u001b[0m                     \u001b[0mself\u001b[0m\u001b[0;34m.\u001b[0m\u001b[0mpage_count2\u001b[0m \u001b[0;34m=\u001b[0m \u001b[0mextra\u001b[0m\u001b[0;34m.\u001b[0m\u001b[0mpage_count_fz\u001b[0m\u001b[0;34m\u001b[0m\u001b[0;34m\u001b[0m\u001b[0m\n\u001b[1;32m   2901\u001b[0m         \u001b[0;32mfinally\u001b[0m\u001b[0;34m:\u001b[0m\u001b[0;34m\u001b[0m\u001b[0;34m\u001b[0m\u001b[0m\n\u001b[0;32m-> 2902\u001b[0;31m             \u001b[0mJM_mupdf_show_errors\u001b[0m \u001b[0;34m=\u001b[0m \u001b[0mJM_mupdf_show_errors_old\u001b[0m\u001b[0;34m\u001b[0m\u001b[0;34m\u001b[0m\u001b[0m\n\u001b[0m",
      "\u001b[0;31mFileNotFoundError\u001b[0m: no such file: '/content/24f-csci544-appliednlp-lec01-introduction.pdf'"
     ]
    }
   ],
   "source": [
    "# Import it in colab\n",
    "!pip install --upgrade pymupdf -q\n",
    "\n",
    "import fitz  # PyMuPDF\n",
    "import re\n",
    "\n",
    "meta_data = {\n",
    "    \"1\": \"https://swabhs.com/f24-csci544-appliednlp/assets/slides/24f-csci544-appliednlp-lec01-introduction.pdf\", \n",
    "    \"2\": \"https://swabhs.com/f24-csci544-appliednlp/assets/slides/24f-csci544-appliednlp-lec02-ngrams.pdf\", \n",
    "    \"3\": \"https://swabhs.com/f24-csci544-appliednlp/assets/slides/24f-csci544-appliednlp-lec03-ngrams-contd-textcat.pdf\",\n",
    "    \"4\": \"https://swabhs.com/f24-csci544-appliednlp/assets/slides/24f-csci544-appliednlp-lec04-logistic-regression.pdf\",\n",
    "    \"5\" : \"https://swabhs.com/f24-csci544-appliednlp/assets/slides/24f-csci544-appliednlp-lec05-word-embeddings.pdf\",\n",
    "    \"6\" : \"https://swabhs.com/f24-csci544-appliednlp/assets/slides/24f-csci544-appliednlp-lec06-word-embeddings-contd.pdf\",\n",
    "}\n",
    "\n",
    "lec = str(input(\"Enter the Lecture Number:\"))\n",
    "assert lec in meta_data.keys(), f\"Please enter only the number of the lecture pdf you want to fix\"\n",
    "url = meta_data[lec]\n",
    "print(f\"Downloading {url}\")\n",
    "!wget \"$url\"\n",
    "\n",
    "pdf_name = url.split(\"/\")[-1]\n",
    "pdf_path = f\"/content/{pdf_name}\"\n",
    "new_pdf_path = f\"/content/flattened {pdf_name}\"\n",
    "\n",
    "# Open the PDF document\n",
    "doc = fitz.open(pdf_path)\n",
    "\n",
    "# Dictionary to store pages with valid numbers\n",
    "valid_pages = {}\n",
    "\n",
    "prev_num = 1\n",
    "# Iterate through each page in the document\n",
    "for page_num in range(doc.page_count):\n",
    "    page = doc.load_page(page_num)  # Get the page\n",
    "    width, height = page.rect.width, page.rect.height\n",
    "\n",
    "    # Define the bottom-left corner\n",
    "    crop_box_left = fitz.Rect(0, height * 0.9, width * 0.05, height)\n",
    "    crop_box_center = fitz.Rect(width * 0.48, height * 0.9, width * 0.52, height)\n",
    "\n",
    "    # Extract text from the bottom-left corner\n",
    "    text = page.get_text(\"text\", clip=crop_box_left)\n",
    "    text = text.strip()\n",
    "    if text == \"\":\n",
    "      text = str(prev_num)\n",
    "    else:\n",
    "      prev_num = int(re.sub(r'[^0-9]', '', text)) + 1 \n",
    "\n",
    "    valid_pages[text] = page_num + 1\n",
    "\n",
    "# Print the kept page numbers and their last occurrences\n",
    "for page_number, slide_number in valid_pages.items():\n",
    "    print(f\"Page Number: {page_number} on Slide Number: {slide_number}\")\n",
    "\n",
    "\n",
    "# Create a new PDF document\n",
    "new_pdf = fitz.open()\n",
    "\n",
    "# Add valid pages to the new PDF\n",
    "for page_number, slide_number in valid_pages.items():\n",
    "    slide_number = int(slide_number) - 1\n",
    "    new_pdf.insert_pdf(doc, from_page=slide_number, to_page=slide_number)  # Copy only the valid page\n",
    "\n",
    "# Save the new PDF file\n",
    "new_pdf.save(new_pdf_path)\n",
    "new_pdf.close()"
   ]
  }
 ],
 "metadata": {
  "kernelspec": {
   "display_name": "csci566",
   "language": "python",
   "name": "python3"
  },
  "language_info": {
   "codemirror_mode": {
    "name": "ipython",
    "version": 3
   },
   "file_extension": ".py",
   "mimetype": "text/x-python",
   "name": "python",
   "nbconvert_exporter": "python",
   "pygments_lexer": "ipython3",
   "version": "3.12.1"
  },
  "orig_nbformat": 4
 },
 "nbformat": 4,
 "nbformat_minor": 2
}
